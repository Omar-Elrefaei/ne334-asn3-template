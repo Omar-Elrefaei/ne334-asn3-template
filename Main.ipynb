{
	"cells": [
		{
			"cell_type": "markdown",
			"source": "# Assignment 3\n\nThis is a simulation assignment. All the required python code and packages are defined inside this notebook.",
			"metadata": {
				"tags": [],
				"cell_id": "97eb61cbf38e4a83a9bccbaf49d6f250",
				"deepnote_app_coordinates": {
					"h": 5,
					"w": 12,
					"x": 0,
					"y": 1
				},
				"deepnote_cell_type": "markdown"
			}
		},
		{
			"cell_type": "markdown",
			"source": "### Usage instructions\n\nThe notebook will use the scripts `water2.py` and `arBox.py` to study the dynamics of water molecules and liquid argon. You don't need to directly access or modify the files, they are run using the functions `simulate_*()`. The assignment requires that you run the scripts multiple times. To do so while reporting all your work, you need to create multiple versions of the `parms` dictionary and multiple versions of your results. For example:\n\n```python\nparms_1 = {\n    'steps':100,\n    'skip_steps':1,\n    'temperature':75.,\n    'dt': 1. * unit.femtoseconds,\n    'ensemble':'NVT'\n}\n\nparms_2 = {\n    'steps':50,\n    'skip_steps':2,\n    'temperature':100.,\n    'dt': 1. * unit.femtoseconds,\n    'ensemble':'NVT'\n}\n```\n\nThe function `simulate()` (defined separately for each part of the assignment) calls the functions inside `water2.py` or `arBox.py`. You can run the simulations multiple times while storing the results in separate variables (whose names preferrably match with the parameter variable names). For example:\n\n```python\nresults_1 = simulate_solidwater(parms_1)\nresults_2 = simulate_solidwater(parms_2)\n```\n\n##### Note:\n- the next two code blocks will set up the environment\n- please make sure to run all code blocks sequentially\n- please make sure to [publish](https://deepnote.com/docs/publish-projects) the notebook when you are done with your work and export the published page to pdf, it helps make sure everything is readable for grading\n\n\n#### Omar here: You do not need to run the following cell anymore. I have already installed the packages.",
			"metadata": {
				"tags": [],
				"cell_id": "2f603deba9404e0dad353735a2edd20e",
				"deepnote_app_coordinates": {
					"h": 5,
					"w": 12,
					"x": 0,
					"y": 37
				},
				"deepnote_cell_type": "markdown"
			}
		},
		{
			"cell_type": "code",
			"source": "# environment setup - packages\n# NOTE: takes a couple of minutes to run\n#!conda install -c conda-forge openmm\n#!conda install -c conda-forge openmmtools=0.20.3\n#!conda install -c conda-forge mdtraj",
			"metadata": {
				"tags": [],
				"cell_id": "217cb73886834eb9ad8f649854dad1cb",
				"source_hash": "edd38b74",
				"output_cleared": true,
				"execution_start": 1665756811712,
				"execution_millis": 127319,
				"is_output_hidden": false,
				"deepnote_app_coordinates": {
					"h": 5,
					"w": 12,
					"x": 0,
					"y": 7
				},
				"deepnote_to_be_reexecuted": false,
				"deepnote_app_is_output_hidden": true,
				"deepnote_cell_type": "code"
			},
			"outputs": [],
			"execution_count": 1
		},
		{
			"cell_type": "code",
			"source": "# environment setup - scripts\nimport sys\nsys.path.append('.')\n\nfrom openmm import unit",
			"metadata": {
				"tags": [],
				"cell_id": "6f92971a61bf4aa59daa0e616eda661e",
				"source_hash": "4bd6262f",
				"execution_start": 1665757398081,
				"execution_millis": 1,
				"deepnote_app_coordinates": {
					"h": 5,
					"w": 12,
					"x": 0,
					"y": 25
				},
				"deepnote_to_be_reexecuted": false,
				"deepnote_cell_type": "code"
			},
			"outputs": [],
			"execution_count": 6
		},
		{
			"cell_type": "markdown",
			"source": "### 1 - Water: NVE",
			"metadata": {
				"tags": [],
				"cell_id": "ba57b703f47044cb8094fdaef9721c69",
				"deepnote_app_coordinates": {
					"h": 5,
					"w": 12,
					"x": 0,
					"y": 13
				},
				"deepnote_cell_type": "markdown"
			}
		},
		{
			"cell_type": "code",
			"source": "# make sure to run this codeblock :)\ndef simulate_solidwater(parms):\n\n    from functions import water2\n\n    parm_error = water2.check_parms(parms)\n\n    if not parm_error:\n        water2.prepare_system(parms)\n        water2.minimize()\n        water2.prepare_sim(parms)\n        water2.run_sim(parms)\n        results = water2.analyse()\n\n        return(results)\n    else:\n        results = None",
			"metadata": {
				"tags": [],
				"cell_id": "2bbc38b60e7242bfadc30846bd09b5eb",
				"source_hash": "b6390835",
				"output_cleared": false,
				"execution_start": 1665757399973,
				"execution_millis": 2,
				"deepnote_app_coordinates": {
					"h": 5,
					"w": 12,
					"x": 0,
					"y": 31
				},
				"deepnote_to_be_reexecuted": false,
				"deepnote_cell_type": "code"
			},
			"outputs": [],
			"execution_count": 7
		},
		{
			"cell_type": "markdown",
			"source": "Use the `simulate_solidwater()` function to study the dynamics of two rigid water molecules under NVE (micro-canonical) conditions.\n\n1. Report all the parameters of your simulation",
			"metadata": {
				"tags": [],
				"cell_id": "64a53d6ea97d4065aebcbbe789a3464b",
				"deepnote_app_coordinates": {
					"h": 5,
					"w": 12,
					"x": 0,
					"y": 43
				},
				"deepnote_cell_type": "markdown"
			}
		},
		{
			"cell_type": "code",
			"source": "# change your parameters here\nparms_1 = {\n    'steps':100,\n    'skip_steps':1,\n    'temperature':75.,\n    'dt': 1 * unit.femtoseconds,\n    'ensemble':'NVE',\n}\n\nparms_2 = {\n    # second set of parameters\n}\n\n# run the sim here (check usage instructions for help):\n",
			"metadata": {
				"tags": [],
				"cell_id": "27f8ee06c94942d09623cc3c9d3c1dff",
				"source_hash": "b79e7ffb",
				"output_cleared": true,
				"execution_start": 1666193867421,
				"execution_millis": 3,
				"deepnote_app_coordinates": {
					"h": 5,
					"w": 12,
					"x": 0,
					"y": 19
				},
				"deepnote_to_be_reexecuted": false,
				"deepnote_cell_type": "code"
			},
			"outputs": [],
			"execution_count": 7
		},
		{
			"cell_type": "markdown",
			"source": "2. Plot the kinetic, potential, and total energies (stored in newly created results dictionary). \nRemark on each of their behaviours; how do they change over time? do they plateau, go up/down? do the results match what you know of NVE ensembles?",
			"metadata": {
				"tags": [],
				"cell_id": "014c077862fe4d2fb4d0977f068a3f7b",
				"deepnote_app_coordinates": {
					"h": 5,
					"w": 12,
					"x": 0,
					"y": 55
				},
				"deepnote_cell_type": "markdown"
			}
		},
		{
			"cell_type": "code",
			"source": "import matplotlib.pyplot as plt\n\n# plots\n# (feel free to separate into more codeblocks)\n# (just make sure to enable them when publishing, i.e. double check your output pdf)\n\n\n",
			"metadata": {
				"tags": [],
				"cell_id": "d2d19957f31646eb9e83b7eadbce6b39",
				"deepnote_app_coordinates": {
					"h": 5,
					"w": 12,
					"x": 0,
					"y": 49
				},
				"deepnote_cell_type": "code"
			},
			"outputs": [],
			"execution_count": null
		},
		{
			"cell_type": "markdown",
			"source": "Ans > ",
			"metadata": {
				"tags": [],
				"cell_id": "66c90850432d4957955fd1ef3ed8103a",
				"is_collapsed": false,
				"formattedRanges": [
					{
						"type": "marks",
						"marks": {
							"bold": true
						},
						"toCodePoint": 4,
						"fromCodePoint": 0
					}
				],
				"deepnote_app_coordinates": {
					"h": 2,
					"w": 8,
					"x": 0,
					"y": 73
				},
				"deepnote_cell_type": "text-cell-p"
			}
		},
		{
			"cell_type": "markdown",
			"source": "",
			"metadata": {
				"tags": [],
				"cell_id": "5f5512c8667b49839f99a659da646fe6",
				"deepnote_app_coordinates": {
					"h": 5,
					"w": 12,
					"x": 0,
					"y": 76
				},
				"deepnote_cell_type": "markdown"
			}
		},
		{
			"cell_type": "markdown",
			"source": "3. Compute the average and variance of the kinetic, potential, and total energies. \nVary the length of the simulation for a constant time step (`dt`), what do you observe?\nFor a fixed number of time steps, what happens when you vary the distance between them (`dt`)?\nWhich quantity do you expect will be conserved?",
			"metadata": {
				"tags": [],
				"cell_id": "5b5b202ee58d46c2a20067eb26389448",
				"deepnote_app_coordinates": {
					"h": 5,
					"w": 12,
					"x": 0,
					"y": 82
				},
				"deepnote_cell_type": "markdown"
			}
		},
		{
			"cell_type": "code",
			"source": "# space for multiple simulation runs\n\n\n",
			"metadata": {
				"tags": [],
				"cell_id": "7cd7c73bf12c41168f451efda041e042",
				"deepnote_app_coordinates": {
					"h": 5,
					"w": 12,
					"x": 0,
					"y": 88
				},
				"deepnote_cell_type": "code"
			},
			"outputs": [],
			"execution_count": null
		},
		{
			"cell_type": "code",
			"source": "# plots for average and variance\n# (feel free to separate into more codeblocks)\n# (just make sure to enable them when publishing, i.e. double check your output pdf)\n\n\n",
			"metadata": {
				"tags": [],
				"cell_id": "7e5dd449af1d4386aeed2477967dda2d",
				"deepnote_app_coordinates": {
					"h": 5,
					"w": 12,
					"x": 0,
					"y": 94
				},
				"deepnote_cell_type": "code"
			},
			"outputs": [],
			"execution_count": null
		},
		{
			"cell_type": "markdown",
			"source": "Ans > ",
			"metadata": {
				"tags": [],
				"cell_id": "ef366c3fb5fe4afa8659c97670918763",
				"is_collapsed": false,
				"formattedRanges": [
					{
						"type": "marks",
						"marks": {
							"bold": true
						},
						"toCodePoint": 3,
						"fromCodePoint": 0
					}
				],
				"deepnote_app_coordinates": {
					"h": 2,
					"w": 8,
					"x": 0,
					"y": 0
				},
				"deepnote_cell_type": "text-cell-p"
			}
		},
		{
			"cell_type": "markdown",
			"source": "4. Plot the distance between the two oxygen atoms of each water as a function of time (results dictionary, key `rOO`). Do you observe oscillations? Report the mean OO distance along with its variance.",
			"metadata": {
				"tags": [],
				"cell_id": "d241be5bb817444a9d49272bd878c743",
				"deepnote_app_coordinates": {
					"h": 5,
					"w": 12,
					"x": 0,
					"y": 0
				},
				"deepnote_cell_type": "markdown"
			}
		},
		{
			"cell_type": "code",
			"source": "# plot distance here\n",
			"metadata": {
				"tags": [],
				"cell_id": "c3af7d3a8abf46bca93d48832c63da9a",
				"deepnote_app_coordinates": {
					"h": 5,
					"w": 12,
					"x": 0,
					"y": 0
				},
				"deepnote_cell_type": "code"
			},
			"outputs": [],
			"execution_count": null
		},
		{
			"cell_type": "markdown",
			"source": "Ans > ",
			"metadata": {
				"tags": [],
				"cell_id": "4a671adb751042c5b9bad329f25ea64f",
				"is_collapsed": false,
				"formattedRanges": [
					{
						"type": "marks",
						"marks": {
							"bold": true
						},
						"toCodePoint": 3,
						"fromCodePoint": 0
					}
				],
				"deepnote_app_coordinates": {
					"h": 2,
					"w": 8,
					"x": 0,
					"y": 0
				},
				"deepnote_cell_type": "text-cell-p"
			}
		},
		{
			"cell_type": "markdown",
			"source": "### 2 - Water: NVT\nUse the function `simulate_solidwater()` to study the dynamics of two rigid water molecules under NVT (canonical) conditions (change `ensemble` key to `\"NVT\"`).\n\n1. Report the parameters of your simulation\n",
			"metadata": {
				"tags": [],
				"cell_id": "eb9f0327bac848588e7c21fbc1073a86",
				"deepnote_app_coordinates": {
					"h": 5,
					"w": 12,
					"x": 0,
					"y": 0
				},
				"deepnote_cell_type": "markdown"
			}
		},
		{
			"cell_type": "code",
			"source": "# change your parameters here\nparms_1 = {\n    # place values here\n    'ensemble':'NVT',\n}\n\n# run the sim here (check usage instructions for help):\n\n",
			"metadata": {
				"tags": [],
				"cell_id": "2df4e1742de745a2ad681c66dc6a55cb",
				"allow_embed": false,
				"source_hash": "147459b",
				"deepnote_app_coordinates": {
					"h": 5,
					"w": 12,
					"x": 0,
					"y": 19
				},
				"deepnote_to_be_reexecuted": false,
				"deepnote_cell_type": "code"
			},
			"outputs": [],
			"execution_count": null
		},
		{
			"cell_type": "markdown",
			"source": "2. Plot the kinetic, potential, and total energies (stored in newly created results dictionary). Note your observations.",
			"metadata": {
				"tags": [],
				"cell_id": "fcafbc04e0bf416689b3d4b31107aaea",
				"deepnote_app_coordinates": {
					"h": 5,
					"w": 12,
					"x": 0,
					"y": 55
				},
				"deepnote_cell_type": "markdown"
			}
		},
		{
			"cell_type": "code",
			"source": "import matplotlib.pyplot as plt\n\n# plots\n# (feel free to separate into more codeblocks)\n# (just make sure to enable them when publishing, i.e. double check your output pdf)\n\n\n",
			"metadata": {
				"tags": [],
				"cell_id": "1841dbad35e54eb89682038de7790975",
				"allow_embed": false,
				"deepnote_app_coordinates": {
					"h": 5,
					"w": 12,
					"x": 0,
					"y": 49
				},
				"deepnote_cell_type": "code"
			},
			"outputs": [],
			"execution_count": null
		},
		{
			"cell_type": "markdown",
			"source": "Ans > ",
			"metadata": {
				"tags": [],
				"cell_id": "5fe23fed9809401d99f8552b76001d79",
				"is_collapsed": false,
				"formattedRanges": [
					{
						"type": "marks",
						"marks": {
							"bold": true
						},
						"toCodePoint": 4,
						"fromCodePoint": 0
					}
				],
				"deepnote_app_coordinates": {
					"h": 2,
					"w": 8,
					"x": 0,
					"y": 73
				},
				"deepnote_cell_type": "text-cell-p"
			}
		},
		{
			"cell_type": "markdown",
			"source": "3. Compute the average and variance of the kinetic, potential, and total energies.\nVary the length of the simulation for a constant time step (`dt`), what do you observe?\nFor a fixed number of time steps, what happens when you vary the distance between them (`dt`)?\nWhich quantity do you expect will be conserved?",
			"metadata": {
				"tags": [],
				"cell_id": "7180267b80954e16b5a519e853ff4e91",
				"deepnote_app_coordinates": {
					"h": 5,
					"w": 12,
					"x": 0,
					"y": 82
				},
				"deepnote_cell_type": "markdown"
			}
		},
		{
			"cell_type": "code",
			"source": "# space for multiple simulation runs\n\n\n",
			"metadata": {
				"tags": [],
				"cell_id": "c85744bb1136431fa5b826b09fbbfac3",
				"allow_embed": false,
				"deepnote_app_coordinates": {
					"h": 5,
					"w": 12,
					"x": 0,
					"y": 88
				},
				"deepnote_cell_type": "code"
			},
			"outputs": [],
			"execution_count": null
		},
		{
			"cell_type": "code",
			"source": "# plots for average and variance\n# (feel free to separate into more codeblocks)\n# (just make sure to enable them when publishing, i.e. double check your output pdf)\n\n\n",
			"metadata": {
				"tags": [],
				"cell_id": "b7ae95e18492454a8a48947afd22b749",
				"allow_embed": false,
				"deepnote_app_coordinates": {
					"h": 5,
					"w": 12,
					"x": 0,
					"y": 94
				},
				"deepnote_cell_type": "code"
			},
			"outputs": [],
			"execution_count": null
		},
		{
			"cell_type": "markdown",
			"source": "4. Plot the distance between the two oxygen atoms of each water as a function of time (results dictionary, key `rOO`). Do you observe oscillations? Report the mean OO distance along with its variance.",
			"metadata": {
				"tags": [],
				"cell_id": "6fa13b8df68b4032b7629af1e5cf3029",
				"deepnote_app_coordinates": {
					"h": 5,
					"w": 12,
					"x": 0,
					"y": 0
				},
				"deepnote_cell_type": "markdown"
			}
		},
		{
			"cell_type": "code",
			"source": "",
			"metadata": {
				"tags": [],
				"cell_id": "7e98f097280240ffa96be9c8c7251f2b",
				"allow_embed": false,
				"deepnote_app_coordinates": {
					"h": 5,
					"w": 12,
					"x": 0,
					"y": 0
				},
				"deepnote_cell_type": "code"
			},
			"outputs": [],
			"execution_count": null
		},
		{
			"cell_type": "markdown",
			"source": "Ans > ",
			"metadata": {
				"tags": [],
				"cell_id": "81207689c8714f1caddfa28bee6271b2",
				"is_collapsed": false,
				"formattedRanges": [
					{
						"type": "marks",
						"marks": {
							"bold": true
						},
						"toCodePoint": 3,
						"fromCodePoint": 0
					}
				],
				"deepnote_app_coordinates": {
					"h": 2,
					"w": 8,
					"x": 0,
					"y": 0
				},
				"deepnote_cell_type": "text-cell-p"
			}
		},
		{
			"cell_type": "markdown",
			"source": "### 3 - Liquid Argon - NVT\n\nUse the function `simulate_argon()` to perform an NVT simulation of liquid argon. Report all parameters of the simulation (i.e. the total number of atoms, the temperature, the density, the time step, the number of time steps, etc.). Use the suggested T and density values. Increase the number of time steps to improve the quality of your results.",
			"metadata": {
				"tags": [],
				"cell_id": "d329f58c096749e28596d3f83c239155",
				"deepnote_app_coordinates": {
					"h": 5,
					"w": 12,
					"x": 0,
					"y": 0
				},
				"deepnote_cell_type": "markdown"
			}
		},
		{
			"cell_type": "code",
			"source": "def simulate_argon(parms):\n\n    from functions import arBox\n\n    parm_error = arBox.check_parms(parms)\n\n    if not parm_error:\n        arBox.prepare_system(parms)\n        arBox.minimize()\n        arBox.equilibrate(parms)\n        arBox.prepare_sim(parms)\n        arBox.run_sim(parms)\n        \n        results = arBox.v_analysis()\n        return(results)\n\n    else:\n        results = None",
			"metadata": {
				"tags": [],
				"cell_id": "cd7819580bc6408c80de2315e0c0de04",
				"deepnote_app_coordinates": {
					"h": 5,
					"w": 12,
					"x": 0,
					"y": 0
				},
				"deepnote_cell_type": "code"
			},
			"outputs": [],
			"execution_count": null
		},
		{
			"cell_type": "code",
			"source": "parms_1 = {\n    'steps':100,\n    'skip_steps':10,\n    'temperature':300.,\n    'equil_steps':100,\n    'N':200,\n    'density':0.9\n}\n\n# run sim here\n\n",
			"metadata": {
				"tags": [],
				"cell_id": "bcc9f214f88c47a99e9ce3d38e1ea252",
				"deepnote_app_coordinates": {
					"h": 5,
					"w": 12,
					"x": 0,
					"y": 0
				},
				"deepnote_cell_type": "code"
			},
			"outputs": [],
			"execution_count": null
		},
		{
			"cell_type": "markdown",
			"source": "1. Use the function `arBox.v_analysis()` to calculate the average potential energy. The function returns a dictionary. Vary the number of particles in the simulation box (e.g. $N= 200, 300, 400, 500$) and note the change in average potential energy per particle $V/N$. What happens as the system size increases? (Note that the function returns the total potential energy). Estimate the standard error bars of the average potential energy per particle (hint, you need the variance of your data along with the total number of steps).",
			"metadata": {
				"tags": [],
				"cell_id": "9ceb107d3ac3402586f507d50aed544c",
				"deepnote_app_coordinates": {
					"h": 5,
					"w": 12,
					"x": 0,
					"y": 0
				},
				"deepnote_cell_type": "markdown"
			}
		},
		{
			"cell_type": "code",
			"source": "from functions import arBox\nresults_X = arBox.v_analysis()",
			"metadata": {
				"tags": [],
				"cell_id": "0da92e3276bd41158b9d9a00b990ee3b",
				"deepnote_app_coordinates": {
					"h": 5,
					"w": 12,
					"x": 0,
					"y": 0
				},
				"deepnote_cell_type": "code"
			},
			"outputs": [],
			"execution_count": null
		},
		{
			"cell_type": "code",
			"source": "\n\n",
			"metadata": {
				"tags": [],
				"cell_id": "a8a6cb7cc3534dd9ab3fb43bd91dbccc",
				"deepnote_app_coordinates": {
					"h": 5,
					"w": 12,
					"x": 0,
					"y": 0
				},
				"deepnote_cell_type": "code"
			},
			"outputs": [],
			"execution_count": null
		},
		{
			"cell_type": "markdown",
			"source": "Ans > ",
			"metadata": {
				"tags": [],
				"cell_id": "f73c1245a27e4c0884df7c49c434192b",
				"is_collapsed": false,
				"formattedRanges": [
					{
						"type": "marks",
						"marks": {
							"bold": true
						},
						"toCodePoint": 3,
						"fromCodePoint": 0
					}
				],
				"deepnote_app_coordinates": {
					"h": 2,
					"w": 8,
					"x": 0,
					"y": 0
				},
				"deepnote_cell_type": "text-cell-p"
			}
		},
		{
			"cell_type": "markdown",
			"source": "2. The pair correlation function (or radial distribution function) $g(r)$ is describes how density varies as a function of distance from a reference particle. The quantity $\\rho g(r)$ is the average density of particles at $r$ given that a tagged particle is at the origin. The radial distribution function is usually determined by calculating the distance between all particle pairs and binning them into a histogram.\n\nUse `arBox.gen_pair_dist()` to calculate $g(r)$ for the simulations above.\nThe script creates a histogram file: `Ar_histo` where each row is the bin edge and the associated height of that bin. The bin spacing should be roughly ~ $0.01$.\nUse those values to plot $g(r)$ (as a function of distance $r$). What happens to the $g(r)$ as the system size increases?",
			"metadata": {
				"tags": [],
				"cell_id": "19bf91470e5f4e6f8b43962ae0d71465",
				"deepnote_app_coordinates": {
					"h": 5,
					"w": 12,
					"x": 0,
					"y": 0
				},
				"deepnote_cell_type": "markdown"
			}
		},
		{
			"cell_type": "code",
			"source": "arBox.gen_pair_dist()\nresult_file = 'Ar_histo'",
			"metadata": {
				"tags": [],
				"cell_id": "e5e62af154434c62ae394c86ed8fabea",
				"deepnote_app_coordinates": {
					"h": 5,
					"w": 12,
					"x": 0,
					"y": 0
				},
				"deepnote_cell_type": "code"
			},
			"outputs": [],
			"execution_count": null
		},
		{
			"cell_type": "code",
			"source": "\n\n",
			"metadata": {
				"tags": [],
				"cell_id": "866c446a08364d1f87ec475223fedf5a",
				"deepnote_app_coordinates": {
					"h": 5,
					"w": 12,
					"x": 0,
					"y": 0
				},
				"deepnote_cell_type": "code"
			},
			"outputs": [],
			"execution_count": null
		},
		{
			"cell_type": "markdown",
			"source": "Ans > ",
			"metadata": {
				"tags": [],
				"cell_id": "6f7db0bdaf604f16b4d0e103f753ea02",
				"is_collapsed": false,
				"formattedRanges": [
					{
						"type": "marks",
						"marks": {
							"bold": true
						},
						"toCodePoint": 3,
						"fromCodePoint": 0
					}
				],
				"deepnote_app_coordinates": {
					"h": 2,
					"w": 8,
					"x": 0,
					"y": 0
				},
				"deepnote_cell_type": "text-cell-p"
			}
		},
		{
			"cell_type": "markdown",
			"source": "3. The number of neighbours up to a distance $r$ can be determined from the radial distribution functions using the definition $n(r) = 4\\pi\\rho\\int_{0}^{r} g(x) x^2 dx$.\nCalculate the number of neighbours in the first shell using the $g(r)$.\nShow all your work.",
			"metadata": {
				"tags": [],
				"cell_id": "a3eab94acb1741ce98b561fd13cc8330",
				"deepnote_app_coordinates": {
					"h": 5,
					"w": 12,
					"x": 0,
					"y": 0
				},
				"deepnote_cell_type": "markdown"
			}
		},
		{
			"cell_type": "code",
			"source": "",
			"metadata": {
				"tags": [],
				"cell_id": "ce312c29a90f44b8acf731b45d8666ad",
				"deepnote_app_coordinates": {
					"h": 5,
					"w": 12,
					"x": 0,
					"y": 0
				},
				"deepnote_cell_type": "code"
			},
			"outputs": [],
			"execution_count": null
		},
		{
			"cell_type": "markdown",
			"source": "### 4 - Liquid Water - NVT\n\nPerform an NVT MD simulation of liquid water using `simulate_liquidwater()`. Report all the parameters of the simulation (ie, the total number of atoms, the temperature, the density, the time step, the number of timesteps, etc.). Use the suggested T and density values. increase the number of time steps to improve the quality of your results. Also increase the size of the simulations box.",
			"metadata": {
				"tags": [],
				"cell_id": "2b9893a8b37549158a9e5988154ab996",
				"deepnote_app_coordinates": {
					"h": 5,
					"w": 12,
					"x": 0,
					"y": 0
				},
				"deepnote_cell_type": "markdown"
			}
		},
		{
			"cell_type": "code",
			"source": "def simulate_liquidwater(parms):\n\n    from functions import waterBox\n\n    parm_error = waterBox.check_parms(parms)\n\n    if not parm_error:\n        waterBox.prepare_system(parms)\n        waterBox.minimize()\n        waterBox.equilibrate(parms)\n        waterBox.prepare_sim(parms)\n        waterBox.run_sim(parms)",
			"metadata": {
				"tags": [],
				"cell_id": "285ace97517a4a9699da4f21db874550",
				"deepnote_app_coordinates": {
					"h": 5,
					"w": 12,
					"x": 0,
					"y": 0
				},
				"deepnote_cell_type": "code"
			},
			"outputs": [],
			"execution_count": null
		},
		{
			"cell_type": "code",
			"source": "parms_X = {\n    'steps':100,\n    'skip_steps':10,\n    'temperature':300.,\n    'equil_steps':100,\n    'N':200,\n    'Box_edge':2.*unit.nanometers\n}\n\n# run sim here\nsimulate_liquidwater(parms_X)\n",
			"metadata": {
				"tags": [],
				"cell_id": "43afd211892f43729c4eb2b26193c654",
				"deepnote_app_coordinates": {
					"h": 5,
					"w": 12,
					"x": 0,
					"y": 0
				},
				"deepnote_cell_type": "code"
			},
			"outputs": [],
			"execution_count": null
		},
		{
			"cell_type": "markdown",
			"source": "1. Use `waterBox.gen_pair_dist()` to calculate the $gOO(r)$ and $gOH(r)$ for the simulations above. The script creates two histogram files: `OO_histo` and `OH_histo`. Describe your results. What happens to the $g(r)$ as the system size increases?",
			"metadata": {
				"tags": [],
				"cell_id": "1f22e906106f4a6aa493e66141021b41",
				"deepnote_app_coordinates": {
					"h": 5,
					"w": 12,
					"x": 0,
					"y": 0
				},
				"deepnote_cell_type": "markdown"
			}
		},
		{
			"cell_type": "code",
			"source": "from functions import waterBox\nwaterBox.gen_pair_dist()\nresults_OO = 'OO_histo'\nresults_OH = 'OH_histo'",
			"metadata": {
				"tags": [],
				"cell_id": "a1cc4521846e47fc88b97a8dd769c375",
				"deepnote_app_coordinates": {
					"h": 5,
					"w": 12,
					"x": 0,
					"y": 0
				},
				"deepnote_cell_type": "code"
			},
			"outputs": [],
			"execution_count": null
		},
		{
			"cell_type": "code",
			"source": "\n\n",
			"metadata": {
				"tags": [],
				"cell_id": "bea578bbe8f1437399b57467eb9e9ca6",
				"deepnote_app_coordinates": {
					"h": 5,
					"w": 12,
					"x": 0,
					"y": 0
				},
				"deepnote_cell_type": "code"
			},
			"outputs": [],
			"execution_count": null
		},
		{
			"cell_type": "markdown",
			"source": "Ans  > ",
			"metadata": {
				"tags": [],
				"cell_id": "544b95220d614851be5005ac27815fca",
				"is_collapsed": false,
				"formattedRanges": [
					{
						"type": "marks",
						"marks": {
							"bold": true
						},
						"toCodePoint": 3,
						"fromCodePoint": 0
					}
				],
				"deepnote_app_coordinates": {
					"h": 2,
					"w": 8,
					"x": 0,
					"y": 0
				},
				"deepnote_cell_type": "text-cell-p"
			}
		},
		{
			"cell_type": "markdown",
			"source": "2. Calculate the number of neighbours in the first shell using the $g(r)$. Show all your work.",
			"metadata": {
				"tags": [],
				"cell_id": "0c187acfc04b43d4ba1956f1d25b445f",
				"deepnote_app_coordinates": {
					"h": 5,
					"w": 12,
					"x": 0,
					"y": 0
				},
				"deepnote_cell_type": "markdown"
			}
		},
		{
			"cell_type": "code",
			"source": "",
			"metadata": {
				"tags": [],
				"cell_id": "fe7e43f62c0e45c2be7974c917891384",
				"deepnote_app_coordinates": {
					"h": 5,
					"w": 12,
					"x": 0,
					"y": 0
				},
				"deepnote_cell_type": "code"
			},
			"outputs": [],
			"execution_count": null
		},
		{
			"cell_type": "markdown",
			"source": "<a style='text-decoration:none;line-height:16px;display:flex;color:#5B5B62;padding:10px;justify-content:end;' href='https://deepnote.com?utm_source=created-in-deepnote-cell&projectId=aa4df8a4-ed73-4da8-9c57-061f84884474' target=\"_blank\">\n<img alt='Created in deepnote.com' style='display:inline;max-height:16px;margin:0px;margin-right:7.5px;' src='data:image/svg+xml;base64,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' > </img>\nCreated in <span style='font-weight:600;margin-left:4px;'>Deepnote</span></a>",
			"metadata": {
				"tags": [],
				"created_in_deepnote_cell": true,
				"deepnote_cell_type": "markdown"
			}
		}
	],
	"nbformat": 4,
	"nbformat_minor": 0,
	"metadata": {
		"deepnote": {},
		"orig_nbformat": 2,
		"deepnote_app_layout": "article",
		"deepnote_notebook_id": "2e74efc61f80445d9dde53864ab8ae40",
		"deepnote_execution_queue": []
	}
}